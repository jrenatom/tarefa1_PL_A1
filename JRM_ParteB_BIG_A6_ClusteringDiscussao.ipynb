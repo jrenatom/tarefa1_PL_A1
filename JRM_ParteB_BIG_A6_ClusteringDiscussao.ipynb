{
  "nbformat": 4,
  "nbformat_minor": 0,
  "metadata": {
    "colab": {
      "provenance": [],
      "include_colab_link": true
    },
    "kernelspec": {
      "name": "python3",
      "display_name": "Python 3"
    }
  },
  "cells": [
    {
      "cell_type": "markdown",
      "metadata": {
        "id": "view-in-github",
        "colab_type": "text"
      },
      "source": [
        "<a href=\"https://colab.research.google.com/github/jrenatom/tarefa1_PL_A1/blob/main/JRM_ParteB_BIG_A6_ClusteringDiscussao.ipynb\" target=\"_parent\"><img src=\"https://colab.research.google.com/assets/colab-badge.svg\" alt=\"Open In Colab\"/></a>"
      ]
    },
    {
      "cell_type": "markdown",
      "metadata": {
        "id": "J3LMBfpeHTwb"
      },
      "source": [
        "<head>\n",
        "  <meta name=\"author\" content=\"Rogério de Oliveira\">\n",
        "  <meta institution=\"author\" content=\"Universidade Presbiteriana Mackenzie\">\n",
        "</head>\n",
        "\n",
        "<img src=\"http://meusite.mackenzie.br/rogerio/mackenzie_logo/UPM.2_horizontal_vermelho.jpg\" width=300, align=\"right\">\n",
        "<!-- <h1 align=left><font size = 6, style=\"color:rgb(200,0,0)\"> optional title </font></h1> -->\n"
      ]
    },
    {
      "cell_type": "markdown",
      "metadata": {
        "id": "zQX8WQPeHTwc"
      },
      "source": [
        "# **Tarefa de Aprofundamento 6** \n",
        "## CASO: Clustering, Segmentando Países pela Força de Trabalho\n",
        "---\n",
        "\n",
        "<br>\n",
        "<br>\n",
        "<br>\n",
        "\n",
        "Com base na atividade *Tarefa de Aprofundamento 5*, **Pesquise e Discuta apenas uma** das perguntas a seguir.\n"
      ]
    },
    {
      "cell_type": "markdown",
      "metadata": {
        "id": "nGZH-j05q8WZ"
      },
      "source": [
        "### 1. Pesquise outros modelos de clusterização e exemplifique uma situação em que um desses modelos pesquisados apresenta resultados melhores que os modelos de clusterização hierárquica e kmédias. \n",
        "\n",
        "<small>\n",
        "Talvez você queira aplicar esse outro modelo aos dados da Tarefa 5 e compartilhar com os colegas. Mas isso é opcional."
      ]
    },
    {
      "cell_type": "markdown",
      "source": [
        "1. O Mean-Shift Clustering ou agrupamento de deslocamento médio (em uma tradução livre) é um algoritmo baseado em foco deslizante que tenta encontrar áreas densas nos data points. Também é um algoritmo baseado em centróides.\n",
        "\n",
        "        from sklearn.cluster import MeanShift\n",
        "\n",
        "        model = MeanShift()\n",
        "\n",
        "2. DBSCAN — Density-Based Spatial Clustering of Applications with Noise\n",
        "O DBSCAN, um algoritmo de agrupamento baseado em densidade, é uma melhoria em relação ao agrupamento Mean-Shift, pois tem vantagens específicas. \n",
        "\n",
        "        from sklearn.cluster import DBSCAN\n",
        "\n",
        "        model = DBSCAN(eps=1.8, min_samples=10)\n",
        "\n",
        "3. Modelos de Mistura Gaussiana (GMMs) nos dão mais flexibilidade do que K-Means. Com GMMs, assumimos que os pontos de dados têm distribuição Gaussiana; esta é uma suposição menos restritiva do que dizer que eles são circulares usando a média. Dessa forma, temos dois parâmetros para descrever a forma dos clusters: a média e o desvio padrão!\n",
        "\n",
        "\n",
        "from sklearn.mixture import GaussianMixture\n",
        "fig= plt.figure(figsize=(10,7))\n",
        "# define the model\n",
        "model = GaussianMixture(n_components=3)"
      ],
      "metadata": {
        "id": "ILIZSUYoKQJs"
      }
    },
    {
      "cell_type": "markdown",
      "metadata": {
        "id": "Oar--2gn9EJ0"
      },
      "source": [
        "*Sua resposta aqui em 1 (um) parágrafo.*"
      ]
    },
    {
      "cell_type": "markdown",
      "metadata": {
        "id": "p32U1tt_9XBd"
      },
      "source": [
        "### 2. A clusterização é bastante empregada para a agrupamento de documentos como emails, páginas de notícias etc. Pesquise qual a métrica de similaridade (distância) normalmente empregada na clusterização de documentos e explique por quê. "
      ]
    },
    {
      "cell_type": "markdown",
      "metadata": {
        "id": "-tdb6x3s9XBd"
      },
      "source": [
        "*Sua resposta aqui em 1 (um) parágrafo.*"
      ]
    },
    {
      "cell_type": "markdown",
      "source": [],
      "metadata": {
        "id": "iMNkNOIvKeQs"
      }
    },
    {
      "cell_type": "markdown",
      "metadata": {
        "id": "xR8J3aMB-TjC"
      },
      "source": [
        "## Referências"
      ]
    },
    {
      "cell_type": "markdown",
      "metadata": {
        "id": "vxyPgZ60-TjC"
      },
      "source": [
        "*Adicione aqui as referências empregadas.* https://medium.com/@isnardgurgel/an%C3%A1lises-com-algoritmos-de-clustering-40d52f36f67c"
      ]
    }
  ]
}