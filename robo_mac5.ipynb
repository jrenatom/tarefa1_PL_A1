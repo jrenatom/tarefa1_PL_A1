{
  "nbformat": 4,
  "nbformat_minor": 0,
  "metadata": {
    "colab": {
      "provenance": [],
      "authorship_tag": "ABX9TyPYECkZZJ24LeE2wg89VKAA",
      "include_colab_link": true
    },
    "kernelspec": {
      "name": "python3",
      "display_name": "Python 3"
    },
    "language_info": {
      "name": "python"
    }
  },
  "cells": [
    {
      "cell_type": "markdown",
      "metadata": {
        "id": "view-in-github",
        "colab_type": "text"
      },
      "source": [
        "<a href=\"https://colab.research.google.com/github/jrenatom/tarefa1_PL_A1/blob/main/robo_mac5.ipynb\" target=\"_parent\"><img src=\"https://colab.research.google.com/assets/colab-badge.svg\" alt=\"Open In Colab\"/></a>"
      ]
    },
    {
      "cell_type": "markdown",
      "source": [
        "Como exemplo de uso da biblioteca “scrapy” o programa inicialmente proposto foi adaptado para a elaboração do robô para buscar o conteúdo para ser raspado nos endereços escolhidos.\n",
        "\n",
        "  O primeiro passo é inspecionar o código fonte no navegador em uma janela separada e definir os campos para a seleção dos artigos.\n",
        "\n",
        "  Utilizando o ambiente Google Colab (https://colab.research.google.com/) foram instalados os pacotes do scrapy e criado um robô de teste para a criação das pastas do nosso exemplo.\n",
        "\n",
        "  No arquivo dentro da pasta “spiders” foi alterado o programa de teste mac5.py . Primeiro são carregadas as bibliotecas e alterados os métodos. Por fim as informações sobre os artigos foram salvas em formato CSV e JSON.\n",
        "\n",
        "\n",
        "\n",
        "\n"
      ],
      "metadata": {
        "id": "xcPs63SiDA4h"
      }
    },
    {
      "cell_type": "code",
      "source": [
        "!pip install scrapy"
      ],
      "metadata": {
        "id": "1m7hBoRlDg0U"
      },
      "execution_count": null,
      "outputs": []
    },
    {
      "cell_type": "code",
      "source": [
        "!scrapy startproject mac5"
      ],
      "metadata": {
        "colab": {
          "base_uri": "https://localhost:8080/",
          "height": 0
        },
        "id": "73wVmNL5DHfc",
        "outputId": "de603823-6a41-4292-d980-15705273b401"
      },
      "execution_count": 3,
      "outputs": [
        {
          "output_type": "stream",
          "name": "stdout",
          "text": [
            "New Scrapy project 'mac5', using template directory '/usr/local/lib/python3.7/dist-packages/scrapy/templates/project', created in:\n",
            "    /content/mac5\n",
            "\n",
            "You can start your first spider with:\n",
            "    cd mac5\n",
            "    scrapy genspider example example.com\n"
          ]
        }
      ]
    },
    {
      "cell_type": "markdown",
      "source": [
        "New Scrapy project 'mac5', using template directory '/usr/local/lib/python3.7/dist-packages/scrapy/templates/project', created in:\n",
        "    /content/mac5\n",
        "\n",
        "You can start your first spider with:\n",
        "    cd mac5\n",
        "    scrapy genspider example example.com"
      ],
      "metadata": {
        "id": "BwLnW9SSEAi0"
      }
    },
    {
      "cell_type": "code",
      "source": [
        "!scrapy genspider mac5 lowendmac.com"
      ],
      "metadata": {
        "colab": {
          "base_uri": "https://localhost:8080/",
          "height": 0
        },
        "id": "6HWsKxVdEzcM",
        "outputId": "93efb8e9-6edb-4cc7-c52b-360c8fa7b21d"
      },
      "execution_count": 6,
      "outputs": [
        {
          "output_type": "stream",
          "name": "stdout",
          "text": [
            "Created spider 'mac5' using template 'basic' \n"
          ]
        }
      ]
    },
    {
      "cell_type": "markdown",
      "source": [
        "!pip install scrapy\n",
        "\n",
        "!scrapy startproject mac5\n",
        "\n",
        "!scrapy genspider mac5 lowendmac.com"
      ],
      "metadata": {
        "id": "LqJM1Wv7FHWk"
      }
    },
    {
      "cell_type": "markdown",
      "source": [
        "Created spider 'mac5' using template 'basic' "
      ],
      "metadata": {
        "id": "xKxymvslFEoE"
      }
    },
    {
      "cell_type": "markdown",
      "source": [
        "#Fazer o UpLoad do arquivo na pasta ../mac5/spiders "
      ],
      "metadata": {
        "id": "IRUcQQdwFmfG"
      }
    },
    {
      "cell_type": "markdown",
      "source": [
        "Executar: !scrapy runspider ./mac5/mac5/spiders/mac5.py"
      ],
      "metadata": {
        "id": "soZj-yTRFvz0"
      }
    },
    {
      "cell_type": "code",
      "source": [
        "!scrapy runspider ./mac5/mac5/spiders/mac5.py"
      ],
      "metadata": {
        "id": "bRYZheh9GG8N"
      },
      "execution_count": null,
      "outputs": []
    },
    {
      "cell_type": "markdown",
      "source": [
        "!scrapy runspider ./mac5/mac5/spiders/mac5.py\n",
        "\n",
        "Verificar a resposta e o arquivo na pasta /content e fazer o download. "
      ],
      "metadata": {
        "id": "1WWScUllGohs"
      }
    },
    {
      "cell_type": "markdown",
      "source": [
        "Salvar em JSON: Upload do Robo mac5json.py\n"
      ],
      "metadata": {
        "id": "4x5YkATuG408"
      }
    },
    {
      "cell_type": "code",
      "source": [
        "!scrapy runspider ./mac5/mac5/spiders/mac5json.py"
      ],
      "metadata": {
        "colab": {
          "base_uri": "https://localhost:8080/",
          "height": 0
        },
        "id": "5sFNI8pYJEGM",
        "outputId": "762f9d6e-2da9-41d4-a4c4-5792fa123c21"
      },
      "execution_count": 9,
      "outputs": [
        {
          "output_type": "stream",
          "name": "stdout",
          "text": [
            "2022-09-22 12:21:39 [scrapy.utils.log] INFO: Scrapy 2.6.2 started (bot: scrapybot)\n",
            "2022-09-22 12:21:39 [scrapy.utils.log] INFO: Versions: lxml 4.9.1.0, libxml2 2.9.14, cssselect 1.1.0, parsel 1.6.0, w3lib 2.0.1, Twisted 22.8.0, Python 3.7.14 (default, Sep  8 2022, 00:06:44) - [GCC 7.5.0], pyOpenSSL 22.0.0 (OpenSSL 3.0.5 5 Jul 2022), cryptography 38.0.1, Platform Linux-5.10.133+-x86_64-with-Ubuntu-18.04-bionic\n",
            "2022-09-22 12:21:39 [scrapy.crawler] INFO: Overridden settings:\n",
            "{'SPIDER_LOADER_WARN_ONLY': True}\n",
            "2022-09-22 12:21:39 [scrapy.utils.log] DEBUG: Using reactor: twisted.internet.epollreactor.EPollReactor\n",
            "2022-09-22 12:21:39 [scrapy.extensions.telnet] INFO: Telnet Password: 4d8ecc0bfdd99c95\n",
            "2022-09-22 12:21:39 [scrapy.middleware] INFO: Enabled extensions:\n",
            "['scrapy.extensions.corestats.CoreStats',\n",
            " 'scrapy.extensions.telnet.TelnetConsole',\n",
            " 'scrapy.extensions.memusage.MemoryUsage',\n",
            " 'scrapy.extensions.logstats.LogStats']\n",
            "2022-09-22 12:21:39 [scrapy.middleware] INFO: Enabled downloader middlewares:\n",
            "['scrapy.downloadermiddlewares.httpauth.HttpAuthMiddleware',\n",
            " 'scrapy.downloadermiddlewares.downloadtimeout.DownloadTimeoutMiddleware',\n",
            " 'scrapy.downloadermiddlewares.defaultheaders.DefaultHeadersMiddleware',\n",
            " 'scrapy.downloadermiddlewares.useragent.UserAgentMiddleware',\n",
            " 'scrapy.downloadermiddlewares.retry.RetryMiddleware',\n",
            " 'scrapy.downloadermiddlewares.redirect.MetaRefreshMiddleware',\n",
            " 'scrapy.downloadermiddlewares.httpcompression.HttpCompressionMiddleware',\n",
            " 'scrapy.downloadermiddlewares.redirect.RedirectMiddleware',\n",
            " 'scrapy.downloadermiddlewares.cookies.CookiesMiddleware',\n",
            " 'scrapy.downloadermiddlewares.httpproxy.HttpProxyMiddleware',\n",
            " 'scrapy.downloadermiddlewares.stats.DownloaderStats']\n",
            "2022-09-22 12:21:39 [scrapy.middleware] INFO: Enabled spider middlewares:\n",
            "['scrapy.spidermiddlewares.httperror.HttpErrorMiddleware',\n",
            " 'scrapy.spidermiddlewares.offsite.OffsiteMiddleware',\n",
            " 'scrapy.spidermiddlewares.referer.RefererMiddleware',\n",
            " 'scrapy.spidermiddlewares.urllength.UrlLengthMiddleware',\n",
            " 'scrapy.spidermiddlewares.depth.DepthMiddleware']\n",
            "2022-09-22 12:21:39 [scrapy.middleware] INFO: Enabled item pipelines:\n",
            "[]\n",
            "2022-09-22 12:21:39 [scrapy.core.engine] INFO: Spider opened\n",
            "2022-09-22 12:21:39 [scrapy.extensions.logstats] INFO: Crawled 0 pages (at 0 pages/min), scraped 0 items (at 0 items/min)\n",
            "2022-09-22 12:21:39 [scrapy.extensions.telnet] INFO: Telnet console listening on 127.0.0.1:6023\n",
            "2022-09-22 12:21:39 [scrapy.downloadermiddlewares.redirect] DEBUG: Redirecting (301) to <GET https://lowendmac.com/> from <GET http://lowendmac.com/>\n",
            "2022-09-22 12:21:40 [scrapy.core.engine] DEBUG: Crawled (200) <GET https://lowendmac.com/> (referer: None)\n",
            "2022-09-22 12:21:40 [scrapy.core.scraper] DEBUG: Scraped from <200 https://lowendmac.com/>\n",
            "{'links': ['https://lowendmac.com/2022/mac-pro-gpus-by-era/', 'https://lowendmac.com/2021/starting-over-a-low-end-mac-legacy/', 'https://lowendmac.com/2021/the-mac-os-news-roundup-3/', 'https://lowendmac.com/2021/dual-purposing-a-tv-as-a-display-for-your-mac-2021-edition/', 'https://lowendmac.com/2021/gpu-madness-in-the-mac-pro-51-early-2021-edition/', 'https://lowendmac.com/2021/best-modern-alternative-to-the-mac-pro-51/', 'https://lowendmac.com/2020/the-mac-os-news-roundup-2/', 'https://lowendmac.com/2020/mac-media-hub-evolution-part-1-the-480i-and-480p-era-2000-07/', 'https://lowendmac.com/2020/the-mac-os-news-roundup-1/', 'https://lowendmac.com/2020/dear-apple-your-services-are-no-longer-required/', 'https://lowendmac.com/2020/snow-leopard-and-the-mid-2009-macbook-just-like-pbj/', 'https://lowendmac.com/2020/to-sell-or-not-to-sell-that-is-the-question/', 'https://lowendmac.com/2020/the-golden-road-apple-how-i-discovered-that-the-worst-mac-ever-wasnt/', 'https://lowendmac.com/2020/the-mac-pro-31-to-51-gets-thunderbolt-3/', 'https://lowendmac.com/2020/52259/', 'https://lowendmac.com/2020/maceffects-breathing-new-life-into-the-retro-mac-community/', 'https://lowendmac.com/2020/big-sur-big-apple-big-no-no/', 'https://lowendmac.com/2020/thoughts-on-the-first-generation-power-macs/', 'https://lowendmac.com/2020/thoughts-on-the-apple-iigs/', 'https://lowendmac.com/2020/ited-returns/', 'https://lowendmac.com/2020/tri-booting-a-mac-pro-21/', 'https://lowendmac.com/2020/the-pismo-at-20-an-enduring-legacy/', 'https://lowendmac.com/2019/macintosh-malaise-carsons-list-of-the-most-compromised-modern-macs/', 'https://lowendmac.com/2019/the-looming-y2k20-bug-and-how-to-protect-your-system/', 'https://lowendmac.com/2019/rca-mm36100-amazing-under-the-radar-consumer-crt-display/', 'https://lowendmac.com/2019/mid-2010-2012-mac-pro-wont-run-catalina/', 'https://lowendmac.com/2019/macos-10-15-catalina-it-wont-drop-any-macs/', 'https://lowendmac.com/2019/imac-brief-cameo-in-m-night-shyamalan-sequel-glass-and-other-examples-of-macs-on-the-big-screen/', 'https://lowendmac.com/2019/a-look-back-at-the-macintosh-128k-the-mac-that-started-it-all-35-years-ago/', 'https://lowendmac.com/2019/dvi-scaler-for-all-low-end-mac-and-gaming-needs/'], 'title': ['Permalink to Mac Pro GPUs by Era', 'Permalink to Starting Over: A Low End Mac Legacy', 'Permalink to The Mac OS news roundup #3', 'Permalink to Dual Purposing a TV as a Display for your Mac: 2021 Edition', 'Permalink to GPU Madness in the Mac Pro 5,1: Early 2021 Edition', 'Permalink to Best Modern Alternative to the Mac Pro 5,1', 'Permalink to The Mac OS news roundup #2', 'Permalink to Mac Media Hub Evolution Part 1: The 480i and 480p Era (2000-07)', 'Permalink to The Mac OS news roundup #1', 'Permalink to Dear Apple:  Your Services Are No Longer Required.', 'Permalink to Snow Leopard and the Mid 2009 MacBook – Just Like PB&J', 'Permalink to To Sell or Not to Sell – That is the Question', 'Permalink to The Golden Road Apple:  How I Discovered that the Worst Mac Ever Wasn’t.', 'Permalink to The Mac Pro 3,1 to 5,1 Gets Thunderbolt 3', 'Permalink to Bad Apple. Poor Experience. Final Straw', 'Permalink to MacEffects:  Bringing New Life to the Retro Mac Community', 'Permalink to Big Sur. Big Apple. Big No No', 'Permalink to Thoughts on the First Generation Power Macs', 'Permalink to Thoughts on the Apple IIGS', 'Permalink to iTed Returns', 'Permalink to Tri-Booting a Mac Pro 2,1', 'Permalink to The Pismo at 20: An Enduring Legacy', 'Permalink to Macintosh Malaise: Carson’s List of the Most Compromised Modern Macs.', 'Permalink to The Looming Y2K20 Bug, and How to Protect Your System.', 'Permalink to RCA MM36100 – Amazing “Under the Radar” Consumer CRT Display', 'Permalink to Mid 2010 and Mid 2012 Mac Pro Won’t Run macOS Catalina', 'Permalink to macOS 10.15 Catalina Won’t Drop Any Macs', 'Permalink to iMac Brief Cameo in M. Night Shyamalan Sequel ‘Glass’ and Other Examples of Macs on the Big Screen', 'Permalink to A Look Back at the Macintosh 128K, the Mac That Started It All 35 Years Ago', 'Permalink to DVI Scaler for All Low End Mac and Gaming Needs'], 'descr': ['\\n      ', 'Mac Pro Evolution Each design of the Mac Pro over the years has had its advantages and disadvantages when it comes to overall system architecture and design, including the GPU (Graphics Processing Unit) options available.\\xa0 Many factors are at play when determining what kind of graphics card you can run with your Mac Pro as […]', '\\n      ', '\\n    ', '\\n      ', 'Dear Low End Mac friends: Apologies for the very long hiatus on new articles on the website. Things haven’t been easy for a while. Over the summer/early fall, our founder Dan Knight decided to step away after around 24 years of running Low End Mac and its day to day operations as Editor in Chief.\\xa0 […]', '\\n      ', '\\n    ', '\\n      ', 'I know what you’re thinking, and you’re right. We’re a bit late on our Mac OS news update – the first for 2021. That’s because I was busy, busy, busy – sorry! But lots of activity in the (retro) Mac OS scene and many exciting projects we need to talk about! Sherlock is back. No, […]', '\\n      ', '\\n    ', '\\n      ', 'Using your TV as a display for your Mac (or any computer really) has taken a lot of twists and turns over the years.\\xa0 Each era as display technology has evolved has seen significant progression, but not until recently has TV technology had the right mix of features, functionality, and price to truly be ideal […]', '\\n      ', '\\n            -->\\n    ', '\\n      ', 'This is a bit of a throwback to my article from May of last year – Tri-Booting a Mac Pro 2,1 – not long before I had just procured my Mac Pro 5,1 (well technically a 4,1 that was flashed to a 5,1 with dual Intel Xeon 5680 CPUs with 12 cores at 3.33 GHz).\\xa0 […]', '\\n      ', '\\n    ', '\\n      ', 'It’s safe to say that the Mac Pro 5,1 will reach the end of the line at some point in the next few years – even in terms of user base extended support such as patching tools that have allowed Catalina (and now Big Sur) to be installed keeping these Macs up to date for […]', '\\n      ', '\\n    ', '\\n      ', 'Hello and welcome to our Mac OS news roundup #2. Christmas isn’t too far off and we’re all looking forward to the holidays, aren’t we? I’m especially curious about the new Mac OS related projects that are going to surface! SCSI2Ethernet board This is one exciting news! If you’re among the hordes lurking around ebay […]', '\\n      ', '\\n    ', '\\n      ', 'Hello Low Enders! It’s been a while, so I’m going to enlighten all of you with a great new series on using the Mac as a media hub and how it has evolved over time. As we have gotten newer Macs throughout the years to integrate into our home theater setups, serving as our digital […]', '\\n      ', '\\n    ', '\\n      ', 'It has been almost 10 years since I published my article Back to Mac OS 9, Because It’s All I Need on Low End Mac. Lots of things changed in my life since then – I got married, became a dad of three kids and I changed my job. But one thing remained in my […]', '\\n      ', '\\n    ', '\\n      ', 'Anyone who knows me knows that I was among the biggest Apple Evangelists to ever live. Apple was in my DNA.\\xa0 I believed in Apple’s products, Apple’s services, and Apple’s mission (or at least what they said their mission was).\\xa0 I was an Apple employee for nearly 13 years, and I loved helping people get […]', '\\n      ', '\\n    ', '\\n      ', 'Hi Low End friends! Gather around! It’s time for another late night campfire story!\\xa0 \\xa0 \\xa0 \\xa0 \\xa0 \\xa0 Just like the camping trips you might enjoy with family and friends, and gathering around the fire, sometimes you need a late night snack and reach for a delicious Peanut Butter and Jelly out of the […]', '\\n      ', '\\n    ', '\\n      ', 'Hi Low End friends! Let’s call this article part of a “new take” category of Low End Mac.\\xa0 Welcome to Low End Mac Campfire Discussions. \\xa0 Now relax and think of yourself in your backyard with family or friends, enjoying your favorite beverage and wondering where all the time has gone surrounding our favorite Low […]', '\\n      ', '\\n    ', '\\n      ', '25 years ago this month Apple introduced what has become known as the x200 series of Power Macintosh and Macintosh Performa computers. \\xa0These machines have been ostracized by those of us in the Mac community, especially here at Low End Mac for almost as long.\\xa0\\xa0Now, more than 2 decades later, new\\xa0data has come to light […]', '\\n      ', '\\n    ', '\\n      ', 'Expansion and I/O Challenges with Older Macs Imagine the average 8-12 year old Mac sitting on your desk today.. Many are getting long in the tooth and have limited external upgrade potential or simply can’t even keep up with the best options offered today in terms of approaching optimal throughput for external graphics (also known […]', '\\n      ', '\\n    ', '\\n      ', 'I don’t often write about my personal experiences, but my recent few days with Apple has left me seething.', '\\n      ', '\\n    ', '\\n      ', 'Several weeks ago I ordered a retro Mac CPU upgrade on eBay that I wanted to write an article about. I was very excited to get my hands on one; I’ve been keeping an eye out for years, and now I’d finally be able to run some tests and get an idea as to how […]', '\\n      ', '\\n    ', '\\n      ', 'Apple really seem to be shaking up the tech world at the moment. But could this be too much for a veteran Apple user such as myself?', '\\n      ', '\\n    ', '\\n      ', 'It was 26 years ago that Apple first introduced the Power Macintosh Line of computers, the Power Macintosh 6100/60, 7100/66, and 8100/80.\\xa0 The first Power Macs were an important step towards faster performance, and on paper they offered an incredible boost in performance compared to any of the 68040 based machines.\\xa0 The most basic Power […]', '\\n      ', '\\n    ', '\\n      ', 'Here I am writing on an old machine, again. This time is a little bit different, though. I am not writing on an old Mac; this time I am writing on an Apple IIGS.', '\\n      ', '\\n    ', '\\n      ', 'Greetings to all of you out there in Vintage Mac Land! It’s great to be back! 15 years ago this month my first ever article was published here on Low End Mac. After a nearly 13 year hiatus I am back writing for Low End Mac, and I am extremely excited to be here!', '\\n      ', '\\n    ', '\\n      ', 'Hi Low Enders! It’s the Bash man again, with another happy episode of trials and tribulations getting my Mac Pro 2,1 in a stable triple boot state (queue crickets, darkness, and crackling campfire as you roast marshmallows and read on).', '\\n      ', '\\n    ', '\\n      ', 'Hi Low Enders! It’s been a while, but like a fine wine some vintage Macs just get more sought after with age.\\xa0 One of those happens to be the PowerBook G3 “Pismo”. \\xa0 The Pismo PowerBook was announced this very day 20 years ago while Apple was in the middle of their “Think Different” campaign […]', '\\n      ', '\\n    ', '\\n      ', 'The era of Macintosh Malaise is what I call the period from 2012 – 2019, and includes many of the Mac computers sold during this time period.\\xa0The following is a list of what I call Carson’s Compromised Macs.', '\\n      ', '\\n    ', '\\n      ', 'It was 20 years ago that the entire world was bracing for what was supposed to be one of the biggest disasters in the history of the world. \\xa0Now we face another bug that could bring your Mac to its knees.', '\\n      ', '\\n    ', '\\n      ', 'Dear Low End Mac Friends: It’s been a while.\\xa0 Life and other typical duties keep one busy, but when something extraordinary comes up, there’s always time to talk about it with our community.\\xa0 In this article, I will be discussing an interesting piece of hardware (a display to be precise) – the RCA MM36100. \\xa0 […]', '\\n      ', '\\n    ', '\\n      ', 'Sad news for owners of Mid 2010 and Mid 2012 Mac Pros, no Catalina for them.', '\\n      ', '\\n    ', '\\n      ', 'macOS 10.15 Catalina has just been announced, and it’s good news for older Macs.', '\\n      ', '\\n    ', '\\n      ', 'There’s a star among stars in the 2019 film Glass by renowned screenwriter and filmmaker M. Night Shyamalan which has its origins from Cupertino, California, and it briefly shares screen time with some high profile Hollywood actors — and the cameo is made by none other than? The iMac G3!', '\\n      ', '\\n    ', '\\n      ', '35 years ago this month on January 22, 1984 the world would get its first preview — in a now iconic commercial\\xa0that aired during Super Bowl XVIII (18) that year — of a new personal computer from what was then Apple Computer, and two days later, at a community college near the tech company’s original […]', '\\n      ', '\\n    ', '\\n      ', 'Greetings Low End Mac friends! It’s been a while since I have written an article solely dedicated to Apple Tech and Gaming, but this one fits the bill perfectly. A while back I had gotten a hold of a Sony Trinitron KV-36HS420. I covered that TV in the article\\xa0TV Technology: No ‘Catch-All’ Solution for Low […]', '\\n      ', '\\n    ']}\n",
            "2022-09-22 12:21:40 [scrapy.core.engine] INFO: Closing spider (finished)\n",
            "2022-09-22 12:21:40 [scrapy.statscollectors] INFO: Dumping Scrapy stats:\n",
            "{'downloader/request_bytes': 426,\n",
            " 'downloader/request_count': 2,\n",
            " 'downloader/request_method_count/GET': 2,\n",
            " 'downloader/response_bytes': 66932,\n",
            " 'downloader/response_count': 2,\n",
            " 'downloader/response_status_count/200': 1,\n",
            " 'downloader/response_status_count/301': 1,\n",
            " 'elapsed_time_seconds': 0.777362,\n",
            " 'finish_reason': 'finished',\n",
            " 'finish_time': datetime.datetime(2022, 9, 22, 12, 21, 40, 341405),\n",
            " 'httpcompression/response_bytes': 245686,\n",
            " 'httpcompression/response_count': 1,\n",
            " 'item_scraped_count': 1,\n",
            " 'log_count/DEBUG': 4,\n",
            " 'log_count/INFO': 10,\n",
            " 'memusage/max': 89718784,\n",
            " 'memusage/startup': 89718784,\n",
            " 'response_received_count': 1,\n",
            " 'scheduler/dequeued': 2,\n",
            " 'scheduler/dequeued/memory': 2,\n",
            " 'scheduler/enqueued': 2,\n",
            " 'scheduler/enqueued/memory': 2,\n",
            " 'start_time': datetime.datetime(2022, 9, 22, 12, 21, 39, 564043)}\n",
            "2022-09-22 12:21:40 [scrapy.core.engine] INFO: Spider closed (finished)\n"
          ]
        }
      ]
    },
    {
      "cell_type": "markdown",
      "source": [
        "Verificar a resposta e o arquivo na pasta /content e fazer o download. "
      ],
      "metadata": {
        "id": "2Z-gif3cJ02F"
      }
    },
    {
      "cell_type": "markdown",
      "source": [],
      "metadata": {
        "id": "yJZyurK0J3NM"
      }
    },
    {
      "cell_type": "markdown",
      "source": [],
      "metadata": {
        "id": "4i35mjBSJ4XL"
      }
    },
    {
      "cell_type": "code",
      "source": [
        "!ls -l\n"
      ],
      "metadata": {
        "colab": {
          "base_uri": "https://localhost:8080/",
          "height": 0
        },
        "id": "wGiM2MXcJ5xP",
        "outputId": "d3229287-05a2-4eb4-a1f1-ba106cbe7c7d"
      },
      "execution_count": 10,
      "outputs": [
        {
          "output_type": "stream",
          "name": "stdout",
          "text": [
            "total 40\n",
            "-rw-r--r-- 1 root root 13318 Sep 22 12:21 artigos_mac5.csv\n",
            "-rw-r--r-- 1 root root 15120 Sep 22 12:21 artigos_mac5.json\n",
            "drwxr-xr-x 3 root root  4096 Sep 22 11:57 mac5\n",
            "drwxr-xr-x 1 root root  4096 Sep 14 13:44 sample_data\n"
          ]
        }
      ]
    }
  ]
}