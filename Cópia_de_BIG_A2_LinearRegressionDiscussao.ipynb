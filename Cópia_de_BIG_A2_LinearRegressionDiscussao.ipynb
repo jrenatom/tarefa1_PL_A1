{
  "nbformat": 4,
  "nbformat_minor": 0,
  "metadata": {
    "colab": {
      "provenance": [],
      "include_colab_link": true
    },
    "kernelspec": {
      "name": "python3",
      "display_name": "Python 3"
    }
  },
  "cells": [
    {
      "cell_type": "markdown",
      "metadata": {
        "id": "view-in-github",
        "colab_type": "text"
      },
      "source": [
        "<a href=\"https://colab.research.google.com/github/jrenatom/tarefa1_PL_A1/blob/main/C%C3%B3pia_de_BIG_A2_LinearRegressionDiscussao.ipynb\" target=\"_parent\"><img src=\"https://colab.research.google.com/assets/colab-badge.svg\" alt=\"Open In Colab\"/></a>"
      ]
    },
    {
      "cell_type": "markdown",
      "metadata": {
        "id": "J3LMBfpeHTwb"
      },
      "source": [
        "<head>\n",
        "  <meta name=\"author\" content=\"Rogério de Oliveira\">\n",
        "  <meta institution=\"author\" content=\"Universidade Presbiteriana Mackenzie\">\n",
        "</head>\n",
        "\n",
        "<img src=\"http://meusite.mackenzie.br/rogerio/mackenzie_logo/UPM.2_horizontal_vermelho.jpg\" width=300, align=\"right\">\n",
        "<!-- <h1 align=left><font size = 6, style=\"color:rgb(200,0,0)\"> optional title </font></h1> -->\n"
      ]
    },
    {
      "cell_type": "markdown",
      "metadata": {
        "id": "zQX8WQPeHTwc"
      },
      "source": [
        "# **Tarefa de Aprofundamento 2** \n",
        "## Discussão do CASO: Estimando o Preço de Imóveis em São Paulo\n",
        "---\n",
        "\n",
        "<br>\n",
        "<br>\n",
        "<br>\n",
        "\n",
        "Com base na atividade *Tarefa de Aprofundamento 1*, **Pesquise e Discuta apenas uma** das perguntas a seguir."
      ]
    },
    {
      "cell_type": "markdown",
      "metadata": {
        "id": "nGZH-j05q8WZ"
      },
      "source": [
        "### 1. Qual a consequencia prática da multicolinearidade no *hot encode* dos dados? Por que? "
      ]
    },
    {
      "cell_type": "markdown",
      "metadata": {
        "id": "Oar--2gn9EJ0"
      },
      "source": [
        "O resultado pode ser pior quando o modelo possui alta multicolinearidade, ou seja com alto grau de correlação entre as variáveis independentes e o as variáveis hot encode.  No exemplo do e-book, com o emprego das variáveis binárias (hot encode) no novo modelo, este apresentou um resultado pior que o modelo anterior.*Sua resposta aqui em 1 (um) parágrafo.*"
      ]
    },
    {
      "cell_type": "markdown",
      "metadata": {
        "id": "p32U1tt_9XBd"
      },
      "source": [
        "### 2. Na atividade, você provavelmente selecionou, dentre os dois modelos, o que apresentava `rsquared` **menor** (não o `rsquared_adj`!) e, mesmo assim, esse é um melhor modelo. Por quê? Justifique."
      ]
    },
    {
      "cell_type": "markdown",
      "metadata": {
        "id": "-tdb6x3s9XBd"
      },
      "source": [
        "*Sua resposta aqui em 1 (um) parágrafo.*"
      ]
    },
    {
      "cell_type": "markdown",
      "metadata": {
        "id": "xR8J3aMB-TjC"
      },
      "source": [
        "## Referências"
      ]
    },
    {
      "cell_type": "markdown",
      "metadata": {
        "id": "vxyPgZ60-TjC"
      },
      "source": [
        "\"Trilha de Aprendizagem 2 - Regressão e Classificação: Regressão Linear e Logística\", Professor Rogério de Oliveira.\n",
        "*Adicione aqui as referências empregadas.*"
      ]
    }
  ]
}