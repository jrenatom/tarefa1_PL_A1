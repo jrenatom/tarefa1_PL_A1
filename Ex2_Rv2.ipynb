{
  "nbformat": 4,
  "nbformat_minor": 0,
  "metadata": {
    "colab": {
      "name": "Ex2_R.ipynb",
      "provenance": [],
      "authorship_tag": "ABX9TyPNKTMqn3qIxIaYt53l6487",
      "include_colab_link": true
    },
    "kernelspec": {
      "name": "ir",
      "display_name": "R"
    },
    "language_info": {
      "name": "R"
    }
  },
  "cells": [
    {
      "cell_type": "markdown",
      "metadata": {
        "id": "view-in-github",
        "colab_type": "text"
      },
      "source": [
        "<a href=\"https://colab.research.google.com/github/jrenatom/tarefa1_PL_A1/blob/main/Ex2_Rv2.ipynb\" target=\"_parent\"><img src=\"https://colab.research.google.com/assets/colab-badge.svg\" alt=\"Open In Colab\"/></a>"
      ]
    },
    {
      "cell_type": "markdown",
      "source": [
        "install.packages(\"devtools\")\n",
        "library(devtools)\n",
        "install.packages(\"tidyverse\", dependencies=TRUE)\n",
        "library(tidyverse)"
      ],
      "metadata": {
        "id": "libB7nTkSjRg"
      }
    },
    {
      "cell_type": "code",
      "execution_count": 1,
      "metadata": {
        "colab": {
          "base_uri": "https://localhost:8080/"
        },
        "id": "BeNafquSRzsp",
        "outputId": "f6865ea2-d387-470d-98fa-d90f9a69081c"
      },
      "outputs": [
        {
          "output_type": "stream",
          "name": "stderr",
          "text": [
            "Installing package into ‘/usr/local/lib/R/site-library’\n",
            "(as ‘lib’ is unspecified)\n",
            "\n"
          ]
        }
      ],
      "source": [
        "install.packages(\"devtools\")"
      ]
    },
    {
      "cell_type": "code",
      "source": [
        "library(devtools)"
      ],
      "metadata": {
        "colab": {
          "base_uri": "https://localhost:8080/"
        },
        "id": "gk7kk0-zSOxb",
        "outputId": "da4d09e5-f5fd-47bc-8d8c-a09c57c03dec"
      },
      "execution_count": 2,
      "outputs": [
        {
          "output_type": "stream",
          "name": "stderr",
          "text": [
            "Loading required package: usethis\n",
            "\n"
          ]
        }
      ]
    },
    {
      "cell_type": "code",
      "source": [
        "install.packages(\"tidyverse\", dependencies=TRUE)\n",
        "library(tidyverse)"
      ],
      "metadata": {
        "colab": {
          "base_uri": "https://localhost:8080/"
        },
        "id": "RlmSRvTOSR17",
        "outputId": "7067ce89-ff10-4f16-be20-69a878ada877"
      },
      "execution_count": 3,
      "outputs": [
        {
          "output_type": "stream",
          "name": "stderr",
          "text": [
            "Installing package into ‘/usr/local/lib/R/site-library’\n",
            "(as ‘lib’ is unspecified)\n",
            "\n",
            "also installing the dependencies ‘lazyeval’, ‘rex’, ‘Rcpp’, ‘covr’, ‘feather’\n",
            "\n",
            "\n",
            "Warning message in system(\"timedatectl\", intern = TRUE):\n",
            "“running command 'timedatectl' had status 1”\n",
            "── \u001b[1mAttaching packages\u001b[22m ─────────────────────────────────────── tidyverse 1.3.1 ──\n",
            "\n",
            "\u001b[32m✔\u001b[39m \u001b[34mggplot2\u001b[39m 3.3.6     \u001b[32m✔\u001b[39m \u001b[34mpurrr  \u001b[39m 0.3.4\n",
            "\u001b[32m✔\u001b[39m \u001b[34mtibble \u001b[39m 3.1.7     \u001b[32m✔\u001b[39m \u001b[34mdplyr  \u001b[39m 1.0.9\n",
            "\u001b[32m✔\u001b[39m \u001b[34mtidyr  \u001b[39m 1.2.0     \u001b[32m✔\u001b[39m \u001b[34mstringr\u001b[39m 1.4.0\n",
            "\u001b[32m✔\u001b[39m \u001b[34mreadr  \u001b[39m 2.1.2     \u001b[32m✔\u001b[39m \u001b[34mforcats\u001b[39m 0.5.1\n",
            "\n",
            "── \u001b[1mConflicts\u001b[22m ────────────────────────────────────────── tidyverse_conflicts() ──\n",
            "\u001b[31m✖\u001b[39m \u001b[34mdplyr\u001b[39m::\u001b[32mfilter()\u001b[39m masks \u001b[34mstats\u001b[39m::filter()\n",
            "\u001b[31m✖\u001b[39m \u001b[34mdplyr\u001b[39m::\u001b[32mlag()\u001b[39m    masks \u001b[34mstats\u001b[39m::lag()\n",
            "\n"
          ]
        }
      ]
    },
    {
      "cell_type": "markdown",
      "source": [
        "Depois de instalado e carregado o pacote tidyverse, o testaremos com o carregamento\n",
        "de um conjunto de dados com informações de desempenho das companhias aéreas.\n",
        "Estes datasets são coletados do site ASA – American Statistical Association, disponível em\n",
        "<https://community.amstat.org/jointscsg-section/dataexpo/dataexpo2009>, em arquivo\n",
        "ZIP, possuindo 1.6Gb (quando descompactado, chega a 12Gb de dados)."
      ],
      "metadata": {
        "id": "ryZfMhEzSoCi"
      }
    },
    {
      "cell_type": "markdown",
      "source": [
        "===========================================================================\n",
        "#Autenticando no Twitter\n",
        "options(httr_oauth_cache=T)\n",
        "\n",
        "consumer_key <- \" \"\n",
        "\n",
        "consumer_secret <- \" \"\n",
        "\n",
        "access_token <- \" \"\n",
        "\n",
        "access_secret <- \" \"\n",
        "\n",
        "setup_twitter_oauth( consumer_key, consumer_secret, access_token, access_secret)"
      ],
      "metadata": {
        "id": "Zqu4QGkqT6_k"
      }
    },
    {
      "cell_type": "code",
      "source": [
        "#Twitter\n",
        "install.packages(c(\"devtools\", \"rjson\", \"bit64\", \"httr\"))"
      ],
      "metadata": {
        "id": "l9E4iBypSlUM",
        "colab": {
          "base_uri": "https://localhost:8080/"
        },
        "outputId": "da8dd016-fcf4-49b8-8891-598c5f25d860"
      },
      "execution_count": 4,
      "outputs": [
        {
          "output_type": "stream",
          "name": "stderr",
          "text": [
            "Installing packages into ‘/usr/local/lib/R/site-library’\n",
            "(as ‘lib’ is unspecified)\n",
            "\n"
          ]
        }
      ]
    },
    {
      "cell_type": "code",
      "source": [
        "options(httr_oauth_cache=T)"
      ],
      "metadata": {
        "id": "bKzP3M0wUOVc"
      },
      "execution_count": 5,
      "outputs": []
    },
    {
      "cell_type": "code",
      "source": [
        ""
      ],
      "metadata": {
        "id": "NKblYuOxWpWq"
      },
      "execution_count": null,
      "outputs": []
    },
    {
      "cell_type": "markdown",
      "source": [
        "Exemplo Twitter 2"
      ],
      "metadata": {
        "id": "wTRPHzP0WmiV"
      }
    },
    {
      "cell_type": "code",
      "source": [
        "Sys.setenv(BEARER_TOKEN = \"AAAAAAAAAAAAAAAAAAAAAJkPdQEAAAAAk0hdml2rR%2Fcb%2FLILxbhhEnXfGGI%3DQeBQrLzFsiLeUf5UBYRQXLFZuCBo67WYFZYfC0g7INAYWUeSmS\")"
      ],
      "metadata": {
        "id": "8YeT8tDEUbEF"
      },
      "execution_count": 6,
      "outputs": []
    },
    {
      "cell_type": "code",
      "source": [
        "install.packages(\"httr\")\n",
        "install.packages(\"jsonlite\")\n",
        "install.packages(\"dplyr\")\n"
      ],
      "metadata": {
        "colab": {
          "base_uri": "https://localhost:8080/"
        },
        "id": "ikXOJg5LUdEK",
        "outputId": "80228fed-ea11-4c10-f0fe-6860586df2fa"
      },
      "execution_count": 7,
      "outputs": [
        {
          "output_type": "stream",
          "name": "stderr",
          "text": [
            "Installing package into ‘/usr/local/lib/R/site-library’\n",
            "(as ‘lib’ is unspecified)\n",
            "\n",
            "Installing package into ‘/usr/local/lib/R/site-library’\n",
            "(as ‘lib’ is unspecified)\n",
            "\n",
            "Installing package into ‘/usr/local/lib/R/site-library’\n",
            "(as ‘lib’ is unspecified)\n",
            "\n"
          ]
        }
      ]
    },
    {
      "cell_type": "code",
      "source": [
        "require(httr)\n",
        "require(jsonlite)\n",
        "require(dplyr)\n"
      ],
      "metadata": {
        "colab": {
          "base_uri": "https://localhost:8080/"
        },
        "id": "UwZFalivTDbL",
        "outputId": "b670dacb-dcaa-4aad-a36d-ea95c4e973d9"
      },
      "execution_count": 8,
      "outputs": [
        {
          "output_type": "stream",
          "name": "stderr",
          "text": [
            "Loading required package: httr\n",
            "\n",
            "Loading required package: jsonlite\n",
            "\n",
            "\n",
            "Attaching package: ‘jsonlite’\n",
            "\n",
            "\n",
            "The following object is masked from ‘package:purrr’:\n",
            "\n",
            "    flatten\n",
            "\n",
            "\n"
          ]
        }
      ]
    },
    {
      "cell_type": "code",
      "source": [
        "bearer_token <- Sys.getenv(\"$BEARER_TOKEN\")\n"
      ],
      "metadata": {
        "id": "WJzoNGn4VpjK"
      },
      "execution_count": 9,
      "outputs": []
    },
    {
      "cell_type": "code",
      "source": [
        "headers <- c('Authorization' = sprintf('Bearer %s', bearer_token))\n"
      ],
      "metadata": {
        "id": "OPhTWNyJVt5a"
      },
      "execution_count": 10,
      "outputs": []
    },
    {
      "cell_type": "code",
      "source": [
        "params <- list('user.fields' = 'description', 'expansions' = 'pinned_tweet_id')\n"
      ],
      "metadata": {
        "id": "_vn2xuBxVyAT"
      },
      "execution_count": 11,
      "outputs": []
    },
    {
      "cell_type": "code",
      "source": [
        "handle <- readline('$USERNAME')\n"
      ],
      "metadata": {
        "colab": {
          "base_uri": "https://localhost:8080/"
        },
        "id": "Fz09zz0MV0pb",
        "outputId": "89f190dd-cef0-4840-829f-85c50ec98f6c"
      },
      "execution_count": 12,
      "outputs": [
        {
          "name": "stdout",
          "output_type": "stream",
          "text": [
            "$USERNAME@mjorenat\n"
          ]
        }
      ]
    },
    {
      "cell_type": "code",
      "source": [
        "url_handle <- sprintf('https://api.twitter.com/2/users/by?usernames=%s', handle)\n"
      ],
      "metadata": {
        "id": "3L1AZx_yV6Mr"
      },
      "execution_count": 13,
      "outputs": []
    },
    {
      "cell_type": "code",
      "source": [
        "response <-\n",
        "httr::GET(url = url_handle,\n",
        "httr::add_headers(.headers = headers),\n",
        "query = params)\n",
        "obj <- httr::content(response, as = \"text\")\n"
      ],
      "metadata": {
        "colab": {
          "base_uri": "https://localhost:8080/"
        },
        "id": "jo1EEDHAV_P9",
        "outputId": "79350c12-8bb1-4af5-a2e8-65c45a9a3542"
      },
      "execution_count": 14,
      "outputs": [
        {
          "output_type": "stream",
          "name": "stderr",
          "text": [
            "No encoding supplied: defaulting to UTF-8.\n",
            "\n"
          ]
        }
      ]
    },
    {
      "cell_type": "code",
      "source": [
        "print(obj)\n"
      ],
      "metadata": {
        "colab": {
          "base_uri": "https://localhost:8080/"
        },
        "id": "Eub83fGlWC5U",
        "outputId": "6d9f9a84-abad-43c5-95cb-c51fe842ff6f"
      },
      "execution_count": 15,
      "outputs": [
        {
          "output_type": "stream",
          "name": "stdout",
          "text": [
            "[1] \"{\\n  \\\"title\\\": \\\"Unauthorized\\\",\\n  \\\"type\\\": \\\"about:blank\\\",\\n  \\\"status\\\": 401,\\n  \\\"detail\\\": \\\"Unauthorized\\\"\\n}\"\n"
          ]
        }
      ]
    }
  ]
}